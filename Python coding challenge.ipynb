{
 "cells": [
  {
   "cell_type": "markdown",
   "metadata": {},
   "source": [
    "The goal is to evaluate on a simple example the knowledge of python coding standards, including docstrings.\n",
    "\n",
    "For each function, write a simple unitary test."
   ]
  },
  {
   "cell_type": "markdown",
   "metadata": {},
   "source": [
    "### 1. Letter counts in a list\n",
    "Write a simple python function \"letter_counts\" that returns a dictionary  that counts the letter occurences given a list of string ['hello', 'world']. "
   ]
  },
  {
   "cell_type": "code",
   "execution_count": null,
   "metadata": {},
   "outputs": [],
   "source": []
  },
  {
   "cell_type": "markdown",
   "metadata": {},
   "source": [
    "### 2. Fibonacci\n",
    "By definition, the first two numbers in the Fibonacci sequence are 0 and 1, and each subsequent number is the sum of the previous two.\n",
    "<br>Write a function that accepts a number and returns the number at that position in the fibonnaci sequence"
   ]
  },
  {
   "cell_type": "code",
   "execution_count": null,
   "metadata": {},
   "outputs": [],
   "source": []
  },
  {
   "cell_type": "markdown",
   "metadata": {},
   "source": [
    "### 3. List Intersection\n",
    "Given two lists of strings, find the intersection of the two lists.\n",
    "\n",
    "Example : Input a1 = ['dog', 'cat', 'egg']  and a2 = ['cat', 'dog', 'chicken']\n",
    "\n",
    "Output : out = ['dog', 'cat']"
   ]
  },
  {
   "cell_type": "code",
   "execution_count": null,
   "metadata": {},
   "outputs": [],
   "source": []
  },
  {
   "cell_type": "markdown",
   "metadata": {},
   "source": [
    "### 4. Longest words\n",
    "\n",
    "Write a function that returns the longest word(s) from a sentence. The function should not return any duplicate words (case sensitive)\n",
    "\n",
    "Example : [\"JANUARY january\"] should return january"
   ]
  },
  {
   "cell_type": "code",
   "execution_count": null,
   "metadata": {},
   "outputs": [],
   "source": []
  },
  {
   "cell_type": "markdown",
   "metadata": {},
   "source": [
    "### 5. Factorial\n",
    "\n",
    "Factorial of any number n is defined as the multiplication of numbers from one to the given number."
   ]
  },
  {
   "cell_type": "code",
   "execution_count": null,
   "metadata": {},
   "outputs": [],
   "source": []
  },
  {
   "cell_type": "markdown",
   "metadata": {},
   "source": [
    "### 6. Missing number\n",
    "Write a function that accepts an array of integers in random order of unknown length, but with one number missing. Return the missing number.\n",
    "\n",
    "Test : the function applied to [2,1,3,5] should return 4"
   ]
  },
  {
   "cell_type": "code",
   "execution_count": null,
   "metadata": {},
   "outputs": [],
   "source": []
  },
  {
   "cell_type": "markdown",
   "metadata": {},
   "source": [
    "### 7. Divisors of n\n",
    "Write a function which return all the divisors (except 1) of n in a list.\n",
    "\n",
    "Example : divisors(10) = [2, 5]"
   ]
  },
  {
   "cell_type": "markdown",
   "metadata": {},
   "source": [
    "### 8. Closest to zero (0)\n",
    "Write a function \"closest_to_zero\" that returns the closest element to 0 which should be positive from a list of numbers.\n",
    "\n",
    "\n",
    "Example : closest_to_zero([8, -2, 3.5, -5]) should return 2"
   ]
  },
  {
   "cell_type": "code",
   "execution_count": null,
   "metadata": {},
   "outputs": [],
   "source": []
  }
 ],
 "metadata": {
  "kernelspec": {
   "display_name": "Python 3",
   "language": "python",
   "name": "python3"
  },
  "language_info": {
   "codemirror_mode": {
    "name": "ipython",
    "version": 3
   },
   "file_extension": ".py",
   "mimetype": "text/x-python",
   "name": "python",
   "nbconvert_exporter": "python",
   "pygments_lexer": "ipython3",
   "version": "3.6.6"
  }
 },
 "nbformat": 4,
 "nbformat_minor": 2
}
