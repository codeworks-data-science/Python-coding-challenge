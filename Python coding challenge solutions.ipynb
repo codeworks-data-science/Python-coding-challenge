{
 "cells": [
  {
   "cell_type": "markdown",
   "metadata": {},
   "source": [
    "The goal is to evaluate on a simple example the knowledge of python coding standards, including docstrings.\n",
    "\n",
    "For each function, write a simple unitary test."
   ]
  },
  {
   "cell_type": "markdown",
   "metadata": {},
   "source": [
    "### 1. Letter counts in a list\n",
    "Write a simple python function \"letter_counts\" that returns a dictionary  that counts the letter occurences given a list of string ['hello', 'world']. "
   ]
  },
  {
   "cell_type": "code",
   "execution_count": 1,
   "metadata": {},
   "outputs": [
    {
     "name": "stdout",
     "output_type": "stream",
     "text": [
      "{'h': 1, 'e': 1, 'l': 3, 'o': 2, 'w': 1, 'r': 1, 'd': 1}\n"
     ]
    }
   ],
   "source": [
    "def letter_counts(list_string):\n",
    "    my_string = []\n",
    "    my_dict = {}\n",
    "    \n",
    "    for word in list_string:\n",
    "        my_string += list(word)\n",
    "\n",
    "    for item in my_string:\n",
    "        my_dict[item] = my_string.count(item)\n",
    "    \n",
    "    print(my_dict)\n",
    "\n",
    "l = ['hello', 'world']\n",
    "letter_counts(l)"
   ]
  },
  {
   "cell_type": "markdown",
   "metadata": {},
   "source": [
    "### 2. Fibonacci\n",
    "By definition, the first two numbers in the Fibonacci sequence are 0 and 1, and each subsequent number is the sum of the previous two.\n",
    "<br>Write a function that accepts a number and returns the number at that position in the fibonnaci sequence"
   ]
  },
  {
   "cell_type": "markdown",
   "metadata": {},
   "source": [
    "The first ten Fibonacci numbers are : 0, 1, 1, 2, 3, 5, 8, 13, 21, 34"
   ]
  },
  {
   "cell_type": "code",
   "execution_count": 4,
   "metadata": {},
   "outputs": [
    {
     "name": "stdout",
     "output_type": "stream",
     "text": [
      "5\n",
      "34\n",
      "-2\n"
     ]
    }
   ],
   "source": [
    "def fib(n):\n",
    "    if n < 2: \n",
    "        return n\n",
    "    else:\n",
    "        return fib(n-1) + fib(n-2)\n",
    "\n",
    "print(fib(5))\n",
    "print(fib(9))\n",
    "print(fib(-2))"
   ]
  },
  {
   "cell_type": "markdown",
   "metadata": {},
   "source": [
    "### 3. List Intersection\n",
    "Given two lists of strings, find the intersection of the two lists.\n",
    "\n",
    "Example : Input a1 = ['dog', 'cat', 'egg']  and a2 = ['cat', 'dog', 'chicken']\n",
    "\n",
    "Output : out = ['dog', 'cat']"
   ]
  },
  {
   "cell_type": "code",
   "execution_count": 5,
   "metadata": {},
   "outputs": [
    {
     "name": "stdout",
     "output_type": "stream",
     "text": [
      "['dog', 'cat']\n"
     ]
    }
   ],
   "source": [
    "def intersections(lst1,lst2):\n",
    "    return [i for i in lst1 if i in lst2]\n",
    "\n",
    "\n",
    "print(intersections(['dog', 'cat', 'egg'], ['cat', 'dog', 'chicken']))"
   ]
  },
  {
   "cell_type": "markdown",
   "metadata": {},
   "source": [
    "### 4. Longest words\n",
    "\n",
    "Write a function that returns the longest word(s) from a sentence. The function should not return any duplicate words (case sensitive)\n",
    "\n",
    "Example : [\"JANUARY january\"] should return january"
   ]
  },
  {
   "cell_type": "code",
   "execution_count": 7,
   "metadata": {},
   "outputs": [
    {
     "name": "stdout",
     "output_type": "stream",
     "text": [
      "['establishmentarian']\n",
      "['january']\n"
     ]
    }
   ],
   "source": [
    "def longest_word(words):\n",
    "    longest = [\"\"]\n",
    "    for w in words.split(\" \"):\n",
    "        w = w.lower()\n",
    "        if len(w) == len(longest[0]):\n",
    "            if w not in longest:\n",
    "                longest.append(w)\n",
    "        if len(w.lower()) > len(longest[0]):\n",
    "              longest = [w]\n",
    "    return longest\n",
    "\n",
    "print(longest_word(\"You are just an old establishmentarian\"))\n",
    "print(longest_word(\"January januar JANUARY january\"))"
   ]
  },
  {
   "cell_type": "markdown",
   "metadata": {},
   "source": [
    "### 5. Factorial\n",
    "\n",
    "Factorial of any number n is defined as the multiplication of numbers from one to the given number."
   ]
  },
  {
   "cell_type": "code",
   "execution_count": 8,
   "metadata": {},
   "outputs": [
    {
     "name": "stdout",
     "output_type": "stream",
     "text": [
      "6\n",
      "3628800\n"
     ]
    }
   ],
   "source": [
    "def fac(n):\n",
    "    return 1 if n == 1 else n * fac(n-1)\n",
    "\n",
    "print(fac(3))\n",
    "print(fac(10))"
   ]
  },
  {
   "cell_type": "markdown",
   "metadata": {},
   "source": [
    "### 6. Missing number\n",
    "Write a function that accepts an array of integers in random order of unknown length, but with one number missing. Return the missing number.\n",
    "\n",
    "Test : the function applied to [2,1,3,5] should return 4"
   ]
  },
  {
   "cell_type": "code",
   "execution_count": 12,
   "metadata": {},
   "outputs": [
    {
     "name": "stdout",
     "output_type": "stream",
     "text": [
      "4\n"
     ]
    }
   ],
   "source": [
    "def missing_number(l):\n",
    "    non_missing = sum(range(1,len(l)+2))\n",
    "    missing = sum(l)\n",
    "    return non_missing - missing\n",
    "\n",
    "print(missing_number([2,1,3,5] ))"
   ]
  },
  {
   "cell_type": "markdown",
   "metadata": {},
   "source": [
    "### 7. Divisors of n\n",
    "Write a function which return all the divisors (except 1) of n in a list.\n",
    "\n",
    "Example : divisors(10) = [2, 5]"
   ]
  },
  {
   "cell_type": "code",
   "execution_count": 10,
   "metadata": {},
   "outputs": [
    {
     "data": {
      "text/plain": [
       "[2, 5]"
      ]
     },
     "execution_count": 10,
     "metadata": {},
     "output_type": "execute_result"
    }
   ],
   "source": [
    "def divisors(n):\n",
    "    divs = []\n",
    "    for i in range(2, n):\n",
    "        if n%i == 0:\n",
    "            divs.append(i)\n",
    "    return divs \n",
    "\n",
    "divisors(10)"
   ]
  },
  {
   "cell_type": "markdown",
   "metadata": {},
   "source": [
    "### 8. Closest to zero (0)\n",
    "Write a function \"closest_to_zero\" that returns the closest element to 0 which should be positive from a list of numbers.\n",
    "\n",
    "\n",
    "Example : closest_to_zero([8, -2, 3.5, -5]) should return 2"
   ]
  },
  {
   "cell_type": "code",
   "execution_count": 11,
   "metadata": {},
   "outputs": [
    {
     "data": {
      "text/plain": [
       "2"
      ]
     },
     "execution_count": 11,
     "metadata": {},
     "output_type": "execute_result"
    }
   ],
   "source": [
    "import math \n",
    "\n",
    "def closest_to_zero(liste):\n",
    "    if liste is None:\n",
    "        print('Liste vide')       \n",
    "    else:\n",
    "        liste = [abs(i) for i in liste]\n",
    "        for i in liste:        \n",
    "            Min = min(liste)\n",
    "            if i == - Min :\n",
    "                return i\n",
    "            else:\n",
    "                return Min\n",
    "            \n",
    "closest_to_zero([8, -2, 3.5, -5])"
   ]
  }
 ],
 "metadata": {
  "kernelspec": {
   "display_name": "Python 3",
   "language": "python",
   "name": "python3"
  },
  "language_info": {
   "codemirror_mode": {
    "name": "ipython",
    "version": 3
   },
   "file_extension": ".py",
   "mimetype": "text/x-python",
   "name": "python",
   "nbconvert_exporter": "python",
   "pygments_lexer": "ipython3",
   "version": "3.6.6"
  }
 },
 "nbformat": 4,
 "nbformat_minor": 2
}
